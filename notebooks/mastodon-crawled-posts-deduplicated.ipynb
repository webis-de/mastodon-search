{
 "cells": [
  {
   "cell_type": "code",
   "execution_count": 1,
   "id": "6c6227ba-abd6-4bdf-8baa-94fb351efe52",
   "metadata": {},
   "outputs": [
    {
     "name": "stderr",
     "output_type": "stream",
     "text": [
      "/tmp/ipykernel_2771321/2977042073.py:5: DeprecationWarning: \n",
      "Pyarrow will become a required dependency of pandas in the next major release of pandas (pandas 3.0),\n",
      "(to allow more performant data types, such as the Arrow string type, and better interoperability with other libraries)\n",
      "but was not found to be installed on your system.\n",
      "If this would cause problems for you,\n",
      "please provide us feedback at https://github.com/pandas-dev/pandas/issues/54466\n",
      "        \n",
      "  from pandas import DataFrame, NA\n"
     ]
    }
   ],
   "source": [
    "from elasticsearch_dsl import connections, Index, Search\n",
    "from elasticsearch_dsl.query import Range, Terms, Term\n",
    "from elasticsearch_dsl.aggs import Terms as PerTerms, Cardinality\n",
    "from json import loads, load\n",
    "from pandas import DataFrame, NA\n",
    "from pathlib import Path\n",
    "from favicon import get as get_favicon\n",
    "from requests import get"
   ]
  },
  {
   "cell_type": "code",
   "execution_count": 2,
   "id": "b6ec008d-d445-4bfa-9e23-d13f8c78fe94",
   "metadata": {},
   "outputs": [],
   "source": [
    "ELASTIC_HOST = \"https://elasticsearch.srv.webis.de\"\n",
    "ELASTIC_PORT = 9200\n",
    "ELASTIC_USER = \"ajjxp\"\n",
    "# As a way to hide the password at least from the notebook, enter a path to a file here, which only contains the password for Elastic.\n",
    "ELASTIC_PASSWORD_FILE = Path(\"~/.local/share/passwords/webis-elasticsearch.txt\").expanduser()\n",
    "INDEX = \"corpus_mastodon_statuses*\"\n",
    "\n",
    "INSTANCE_DATA_PATH = Path(\"/mnt/ceph/storage/data-in-progress/data-teaching/theses/wstud-thesis-ernst/fedi_data/2024-01-30/05.jsonl\")\n",
    "INSTANCES_PATH = Path(\"/mnt/ceph/storage/data-in-progress/data-teaching/theses/wstud-thesis-ernst/sample/04/instances.txt\")\n",
    "REMOVED_INSTANCES_PATH = Path(\"/mnt/ceph/storage/data-in-progress/data-teaching/theses/wstud-thesis-ernst/sample/04/instances_removed_for_crawling_errors.json\")\n",
    "\n",
    "OUTPUT_PATH = Path(\"../data\")\n",
    "\n",
    "NUM_TOP_INSTANCES = 10\n",
    "\n",
    "# Limit the Elastic searches to a specific date range. Crawling started on 2023-12-21.\n",
    "DATE_AFTER = \"2023-12-01T00:00:00\"\n",
    "## Ca. \"2024-01-30T12:00:00\" is the time when a new version of the fediverse data was gahtered.\n",
    "DATE_BEFORE = \"2024-02-22T00:00:00\""
   ]
  },
  {
   "cell_type": "code",
   "execution_count": 3,
   "id": "cda8bfe2-cdf8-4f06-9610-7d6cc36022a6",
   "metadata": {},
   "outputs": [],
   "source": [
    "# Connect to Elastic.\n",
    "with ELASTIC_PASSWORD_FILE.open(\"r\") as f:\n",
    "    password = f.readline().strip(\"\\n\")\n",
    "elastic = connections.create_connection(\n",
    "    hosts=ELASTIC_HOST + \":\" + str(ELASTIC_PORT),\n",
    "    basic_auth=(ELASTIC_USER, password),\n",
    "    timeout=300\n",
    ")"
   ]
  },
  {
   "cell_type": "code",
   "execution_count": 4,
   "id": "b28bcd06",
   "metadata": {},
   "outputs": [
    {
     "data": {
      "text/plain": [
       "{'range': {'crawled_at': {'gte': '2023-12-01T00:00:00',\n",
       "   'lte': '2024-02-22T00:00:00',\n",
       "   'format': 'date_hour_minute_second'}}}"
      ]
     },
     "execution_count": 4,
     "metadata": {},
     "output_type": "execute_result"
    }
   ],
   "source": [
    "# Prepare the date query\n",
    "date_query = Range(crawled_at={\"gte\": DATE_AFTER, \"lte\": DATE_BEFORE, \"format\" : \"date_hour_minute_second\"})\n",
    "date_query.to_dict()"
   ]
  },
  {
   "cell_type": "code",
   "execution_count": 5,
   "id": "1ee3037a",
   "metadata": {},
   "outputs": [
    {
     "data": {
      "text/plain": [
       "733422534"
      ]
     },
     "execution_count": 5,
     "metadata": {},
     "output_type": "execute_result"
    }
   ],
   "source": [
    "base_search: Search = Index(INDEX)\\\n",
    "    .search()\\\n",
    "    .filter(date_query)\n",
    "base_search.count()"
   ]
  },
  {
   "cell_type": "code",
   "execution_count": 6,
   "id": "1b782445",
   "metadata": {},
   "outputs": [
    {
     "data": {
      "text/plain": [
       "1015"
      ]
     },
     "execution_count": 6,
     "metadata": {},
     "output_type": "execute_result"
    }
   ],
   "source": [
    "crawled_instances_count_search: Search = base_search.params(size=0)\n",
    "crawled_instances_count_search.aggs\\\n",
    "    .metric(\n",
    "        \"instances\", \n",
    "        Cardinality(field=\"crawled_from_instance.keyword\")\n",
    "    )\n",
    "crawled_instances_count = crawled_instances_count_search.execute()\\\n",
    "    .aggs.instances.value\n",
    "crawled_instances_count"
   ]
  },
  {
   "cell_type": "code",
   "execution_count": 10,
   "id": "468ade44",
   "metadata": {},
   "outputs": [
    {
     "data": {
      "text/plain": [
       "{'mastodon.social': 15339031,\n",
       " 'mastodon.online': 9903317,\n",
       " 'mstdn.social': 9544636,\n",
       " 'ohai.social': 8706348,\n",
       " 'mas.to': 8200339,\n",
       " 'mastodon.world': 8111819,\n",
       " 'universeodon.com': 7453409,\n",
       " 'social.vivaldi.net': 7165129,\n",
       " 'techhub.social': 7112351,\n",
       " 'toot.community': 6599259}"
      ]
     },
     "execution_count": 10,
     "metadata": {},
     "output_type": "execute_result"
    }
   ],
   "source": [
    "crawled_counts_search: Search = base_search.params(size=0)\n",
    "crawled_counts_search.aggs\\\n",
    "    .bucket(\n",
    "        \"instances\",\n",
    "        PerTerms(field=\"crawled_from_instance.keyword\", size=NUM_TOP_INSTANCES)\n",
    "    )\\\n",
    "    .metric(\n",
    "        \"uri\", \n",
    "        Cardinality(field=\"uri.keyword\")\n",
    "    )\n",
    "    \n",
    "crawled_counts_buckets = crawled_counts_search.execute().aggs.instances.buckets\n",
    "crawled_counts = {\n",
    "    bucket.key: bucket.uri.value\n",
    "    for bucket in crawled_counts_buckets\n",
    "}\n",
    "crawled_counts"
   ]
  },
  {
   "cell_type": "code",
   "execution_count": 15,
   "id": "b36ef0e9",
   "metadata": {},
   "outputs": [
    {
     "data": {
      "text/plain": [
       "35300568"
      ]
     },
     "execution_count": 15,
     "metadata": {},
     "output_type": "execute_result"
    }
   ],
   "source": [
    "crawled_counts_search: Search = base_search.params(size=0)\n",
    "crawled_counts_search.aggs\\\n",
    "    .metric(\n",
    "        \"uri\", \n",
    "        Cardinality(field=\"uri.keyword\")\n",
    "    )\n",
    "    \n",
    "total_crawled_count = crawled_counts_search.execute().aggs.uri.value\n",
    "total_crawled_count"
   ]
  },
  {
   "cell_type": "code",
   "execution_count": 55,
   "id": "2397ed14-7ab8-4551-b0ff-16dca3bee2f6",
   "metadata": {},
   "outputs": [
    {
     "data": {
      "text/plain": [
       "{'mastodon.social': 12419766,\n",
       " 'mastodon.online': 9637941,\n",
       " 'mstdn.social': 9161146,\n",
       " 'ohai.social': 8691028,\n",
       " 'mas.to': 8022495,\n",
       " 'mastodon.world': 7922482,\n",
       " 'universeodon.com': 7358211,\n",
       " 'social.vivaldi.net': 7033279,\n",
       " 'techhub.social': 7042597,\n",
       " 'toot.community': 6575255}"
      ]
     },
     "execution_count": 55,
     "metadata": {},
     "output_type": "execute_result"
    }
   ],
   "source": [
    "crawled_federated_counts_search: Search = base_search.params(size=0)\\\n",
    "    .filter(Term(is_local=False))\\\n",
    "    .filter(Terms(crawled_from_instance=list(crawled_counts.keys())))\n",
    "crawled_federated_counts_search.aggs\\\n",
    "    .bucket(\n",
    "        \"instances\",\n",
    "        PerTerms(field=\"crawled_from_instance.keyword\", size=NUM_TOP_INSTANCES)\n",
    "    )\\\n",
    "    .metric(\n",
    "        \"uri\", \n",
    "        Cardinality(field=\"uri.keyword\")\n",
    "    )\n",
    "    \n",
    "crawled_federated_counts_buckets = crawled_federated_counts_search.execute().aggs.instances.buckets\n",
    "crawled_federated_counts = {\n",
    "    bucket.key: bucket.uri.value\n",
    "    for bucket in crawled_federated_counts_buckets\n",
    "}\n",
    "crawled_federated_counts"
   ]
  },
  {
   "cell_type": "code",
   "execution_count": 63,
   "id": "f93c7977",
   "metadata": {},
   "outputs": [
    {
     "data": {
      "text/plain": [
       "34780419"
      ]
     },
     "execution_count": 63,
     "metadata": {},
     "output_type": "execute_result"
    }
   ],
   "source": [
    "crawled_federated_counts_search: Search = base_search.params(size=0)\\\n",
    "    .filter(Term(is_local=False))\n",
    "crawled_federated_counts_search.aggs\\\n",
    "    .metric(\n",
    "        \"uri\", \n",
    "        Cardinality(field=\"uri.keyword\")\n",
    "    )\n",
    "    \n",
    "total_crawled_federated_count = crawled_federated_counts_search.execute().aggs.uri.value\n",
    "total_crawled_federated_count"
   ]
  },
  {
   "cell_type": "code",
   "execution_count": 57,
   "id": "d58efaad",
   "metadata": {},
   "outputs": [
    {
     "data": {
      "text/plain": [
       "{'mastodon.social': 3213603,\n",
       " 'mstdn.social': 361335,\n",
       " 'mastodon.online': 254626,\n",
       " 'mastodon.world': 208671,\n",
       " 'mas.to': 182123,\n",
       " 'social.vivaldi.net': 133506,\n",
       " 'universeodon.com': 98605,\n",
       " 'techhub.social': 71772,\n",
       " 'toot.community': 29977,\n",
       " 'ohai.social': 19110}"
      ]
     },
     "execution_count": 57,
     "metadata": {},
     "output_type": "execute_result"
    }
   ],
   "source": [
    "crawled_local_counts_search: Search = base_search.params(size=0)\\\n",
    "    .filter(Term(is_local=True))\\\n",
    "    .filter(Terms(crawled_from_instance=list(crawled_counts.keys())))\n",
    "crawled_local_counts_search.aggs\\\n",
    "    .bucket(\n",
    "        \"instances\",\n",
    "        PerTerms(field=\"crawled_from_instance.keyword\", size=NUM_TOP_INSTANCES)\n",
    "    )\\\n",
    "    .metric(\n",
    "        \"uri\", \n",
    "        Cardinality(field=\"uri.keyword\", precision_threshold=10)\n",
    "    )\n",
    "    \n",
    "crawled_local_counts_buckets = crawled_local_counts_search.execute().aggs.instances.buckets\n",
    "crawled_local_counts = {\n",
    "    bucket.key: bucket.uri.value\n",
    "    for bucket in crawled_local_counts_buckets\n",
    "}\n",
    "crawled_local_counts"
   ]
  },
  {
   "cell_type": "code",
   "execution_count": 64,
   "id": "67746f6b",
   "metadata": {},
   "outputs": [
    {
     "data": {
      "text/plain": [
       "9800888"
      ]
     },
     "execution_count": 64,
     "metadata": {},
     "output_type": "execute_result"
    }
   ],
   "source": [
    "crawled_local_counts_search: Search = base_search.params(size=0)\\\n",
    "    .filter(Term(is_local=True))\n",
    "crawled_local_counts_search.aggs\\\n",
    "    .metric(\n",
    "        \"uri\", \n",
    "        Cardinality(field=\"uri.keyword\")\n",
    "    )\n",
    "    \n",
    "total_crawled_local_count = crawled_local_counts_search.execute().aggs.uri.value\n",
    "total_crawled_local_count"
   ]
  },
  {
   "cell_type": "code",
   "execution_count": 65,
   "id": "7d5d7aeb",
   "metadata": {},
   "outputs": [],
   "source": [
    "def save_favicon(instance: str, quiet: bool = False) -> Path | None:\n",
    "    favicon_path = OUTPUT_PATH / \"favicons\" / f\"favicon-{instance}.png\"\n",
    "    favicon_path.parent.mkdir(parents=True, exist_ok=True)\n",
    "    if favicon_path.exists():\n",
    "        return favicon_path\n",
    "    domain = instance\n",
    "    if instance.count(\".\") > 1:\n",
    "        domain = \".\".join(instance.split(\".\")[-2:])\n",
    "    if not quiet:\n",
    "        print(f\"Searching for favicon for {domain}...\")\n",
    "    try:\n",
    "        favicons = get_favicon(f\"https://{domain}\", timeout=2)\n",
    "    except Exception:\n",
    "        return None\n",
    "    favicons = sorted(favicons, key=lambda f: f.width, reverse=True)\n",
    "    favicons = [favicon for favicon in favicons if favicon.format == \"png\"]\n",
    "    if len(favicons) == 0:\n",
    "        return None\n",
    "    if not quiet:\n",
    "        print(f\"Downloading favicon from {domain}...\")\n",
    "    favicon_response = get(favicons[0].url, stream=True, timeout=3)\n",
    "    try:\n",
    "        with favicon_path.open(\"wb\") as image:\n",
    "            for chunk in favicon_response.iter_content(1024):\n",
    "                image.write(chunk)\n",
    "    except Exception:\n",
    "        favicon_path.unlink()\n",
    "        return None\n",
    "    return favicon_path"
   ]
  },
  {
   "cell_type": "code",
   "execution_count": 66,
   "id": "b08eee69",
   "metadata": {},
   "outputs": [
    {
     "data": {
      "text/plain": [
       "['mastodon.social',\n",
       " 'mastodon.online',\n",
       " 'mstdn.social',\n",
       " 'ohai.social',\n",
       " 'mas.to',\n",
       " 'mastodon.world',\n",
       " 'universeodon.com',\n",
       " 'social.vivaldi.net',\n",
       " 'techhub.social',\n",
       " 'toot.community']"
      ]
     },
     "execution_count": 66,
     "metadata": {},
     "output_type": "execute_result"
    }
   ],
   "source": [
    "top_crawled_instances: list[str] = [\n",
    "    instance\n",
    "    for instance, _ in sorted(\n",
    "        crawled_counts.items(), \n",
    "        key=lambda b: b[1],\n",
    "        reverse=True,\n",
    "    )[:NUM_TOP_INSTANCES]\n",
    "]\n",
    "top_crawled_instances"
   ]
  },
  {
   "cell_type": "code",
   "execution_count": 67,
   "id": "b8818411",
   "metadata": {},
   "outputs": [
    {
     "data": {
      "text/html": [
       "<style type=\"text/css\">\n",
       "</style>\n",
       "<table id=\"T_95a4d\">\n",
       "  <thead>\n",
       "    <tr>\n",
       "      <th class=\"blank level0\" >&nbsp;</th>\n",
       "      <th id=\"T_95a4d_level0_col0\" class=\"col_heading level0 col0\" >instance</th>\n",
       "      <th id=\"T_95a4d_level0_col1\" class=\"col_heading level0 col1\" >icon</th>\n",
       "      <th id=\"T_95a4d_level0_col2\" class=\"col_heading level0 col2\" >posts_crawled</th>\n",
       "      <th id=\"T_95a4d_level0_col3\" class=\"col_heading level0 col3\" >posts_crawled_federated</th>\n",
       "      <th id=\"T_95a4d_level0_col4\" class=\"col_heading level0 col4\" >posts_crawled_local</th>\n",
       "      <th id=\"T_95a4d_level0_col5\" class=\"col_heading level0 col5\" >percentage_crawled_federated_of_all_crawled_federated</th>\n",
       "      <th id=\"T_95a4d_level0_col6\" class=\"col_heading level0 col6\" >percentage_crawled_local_of_all_crawled_local</th>\n",
       "      <th id=\"T_95a4d_level0_col7\" class=\"col_heading level0 col7\" >percentage_crawled_of_all_crawled</th>\n",
       "    </tr>\n",
       "  </thead>\n",
       "  <tbody>\n",
       "    <tr>\n",
       "      <th id=\"T_95a4d_level0_row0\" class=\"row_heading level0 row0\" >0</th>\n",
       "      <td id=\"T_95a4d_row0_col0\" class=\"data row0 col0\" >mastodon.social</td>\n",
       "      <td id=\"T_95a4d_row0_col1\" class=\"data row0 col1\" >../data/favicons/favicon-mastodon.social.png</td>\n",
       "      <td id=\"T_95a4d_row0_col2\" class=\"data row0 col2\" >15339031</td>\n",
       "      <td id=\"T_95a4d_row0_col3\" class=\"data row0 col3\" >12419766</td>\n",
       "      <td id=\"T_95a4d_row0_col4\" class=\"data row0 col4\" >3213603</td>\n",
       "      <td id=\"T_95a4d_row0_col5\" class=\"data row0 col5\" >35.71%</td>\n",
       "      <td id=\"T_95a4d_row0_col6\" class=\"data row0 col6\" >32.79%</td>\n",
       "      <td id=\"T_95a4d_row0_col7\" class=\"data row0 col7\" >43.45%</td>\n",
       "    </tr>\n",
       "    <tr>\n",
       "      <th id=\"T_95a4d_level0_row1\" class=\"row_heading level0 row1\" >1</th>\n",
       "      <td id=\"T_95a4d_row1_col0\" class=\"data row1 col0\" >mastodon.online</td>\n",
       "      <td id=\"T_95a4d_row1_col1\" class=\"data row1 col1\" >../data/favicons/favicon-mastodon.online.png</td>\n",
       "      <td id=\"T_95a4d_row1_col2\" class=\"data row1 col2\" >9903317</td>\n",
       "      <td id=\"T_95a4d_row1_col3\" class=\"data row1 col3\" >9637941</td>\n",
       "      <td id=\"T_95a4d_row1_col4\" class=\"data row1 col4\" >254626</td>\n",
       "      <td id=\"T_95a4d_row1_col5\" class=\"data row1 col5\" >27.71%</td>\n",
       "      <td id=\"T_95a4d_row1_col6\" class=\"data row1 col6\" >2.60%</td>\n",
       "      <td id=\"T_95a4d_row1_col7\" class=\"data row1 col7\" >28.05%</td>\n",
       "    </tr>\n",
       "    <tr>\n",
       "      <th id=\"T_95a4d_level0_row2\" class=\"row_heading level0 row2\" >2</th>\n",
       "      <td id=\"T_95a4d_row2_col0\" class=\"data row2 col0\" >mstdn.social</td>\n",
       "      <td id=\"T_95a4d_row2_col1\" class=\"data row2 col1\" >../data/favicons/favicon-mstdn.social.png</td>\n",
       "      <td id=\"T_95a4d_row2_col2\" class=\"data row2 col2\" >9544636</td>\n",
       "      <td id=\"T_95a4d_row2_col3\" class=\"data row2 col3\" >9161146</td>\n",
       "      <td id=\"T_95a4d_row2_col4\" class=\"data row2 col4\" >361335</td>\n",
       "      <td id=\"T_95a4d_row2_col5\" class=\"data row2 col5\" >26.34%</td>\n",
       "      <td id=\"T_95a4d_row2_col6\" class=\"data row2 col6\" >3.69%</td>\n",
       "      <td id=\"T_95a4d_row2_col7\" class=\"data row2 col7\" >27.04%</td>\n",
       "    </tr>\n",
       "    <tr>\n",
       "      <th id=\"T_95a4d_level0_row3\" class=\"row_heading level0 row3\" >3</th>\n",
       "      <td id=\"T_95a4d_row3_col0\" class=\"data row3 col0\" >ohai.social</td>\n",
       "      <td id=\"T_95a4d_row3_col1\" class=\"data row3 col1\" >../data/favicons/favicon-ohai.social.png</td>\n",
       "      <td id=\"T_95a4d_row3_col2\" class=\"data row3 col2\" >8706348</td>\n",
       "      <td id=\"T_95a4d_row3_col3\" class=\"data row3 col3\" >8691028</td>\n",
       "      <td id=\"T_95a4d_row3_col4\" class=\"data row3 col4\" >19110</td>\n",
       "      <td id=\"T_95a4d_row3_col5\" class=\"data row3 col5\" >24.99%</td>\n",
       "      <td id=\"T_95a4d_row3_col6\" class=\"data row3 col6\" >0.19%</td>\n",
       "      <td id=\"T_95a4d_row3_col7\" class=\"data row3 col7\" >24.66%</td>\n",
       "    </tr>\n",
       "    <tr>\n",
       "      <th id=\"T_95a4d_level0_row4\" class=\"row_heading level0 row4\" >4</th>\n",
       "      <td id=\"T_95a4d_row4_col0\" class=\"data row4 col0\" >mas.to</td>\n",
       "      <td id=\"T_95a4d_row4_col1\" class=\"data row4 col1\" >../data/favicons/favicon-mas.to.png</td>\n",
       "      <td id=\"T_95a4d_row4_col2\" class=\"data row4 col2\" >8200339</td>\n",
       "      <td id=\"T_95a4d_row4_col3\" class=\"data row4 col3\" >8022495</td>\n",
       "      <td id=\"T_95a4d_row4_col4\" class=\"data row4 col4\" >182123</td>\n",
       "      <td id=\"T_95a4d_row4_col5\" class=\"data row4 col5\" >23.07%</td>\n",
       "      <td id=\"T_95a4d_row4_col6\" class=\"data row4 col6\" >1.86%</td>\n",
       "      <td id=\"T_95a4d_row4_col7\" class=\"data row4 col7\" >23.23%</td>\n",
       "    </tr>\n",
       "    <tr>\n",
       "      <th id=\"T_95a4d_level0_row5\" class=\"row_heading level0 row5\" >5</th>\n",
       "      <td id=\"T_95a4d_row5_col0\" class=\"data row5 col0\" >mastodon.world</td>\n",
       "      <td id=\"T_95a4d_row5_col1\" class=\"data row5 col1\" >../data/favicons/favicon-mastodon.world.png</td>\n",
       "      <td id=\"T_95a4d_row5_col2\" class=\"data row5 col2\" >8111819</td>\n",
       "      <td id=\"T_95a4d_row5_col3\" class=\"data row5 col3\" >7922482</td>\n",
       "      <td id=\"T_95a4d_row5_col4\" class=\"data row5 col4\" >208671</td>\n",
       "      <td id=\"T_95a4d_row5_col5\" class=\"data row5 col5\" >22.78%</td>\n",
       "      <td id=\"T_95a4d_row5_col6\" class=\"data row5 col6\" >2.13%</td>\n",
       "      <td id=\"T_95a4d_row5_col7\" class=\"data row5 col7\" >22.98%</td>\n",
       "    </tr>\n",
       "    <tr>\n",
       "      <th id=\"T_95a4d_level0_row6\" class=\"row_heading level0 row6\" >6</th>\n",
       "      <td id=\"T_95a4d_row6_col0\" class=\"data row6 col0\" >universeodon.com</td>\n",
       "      <td id=\"T_95a4d_row6_col1\" class=\"data row6 col1\" >../data/favicons/favicon-universeodon.com.png</td>\n",
       "      <td id=\"T_95a4d_row6_col2\" class=\"data row6 col2\" >7453409</td>\n",
       "      <td id=\"T_95a4d_row6_col3\" class=\"data row6 col3\" >7358211</td>\n",
       "      <td id=\"T_95a4d_row6_col4\" class=\"data row6 col4\" >98605</td>\n",
       "      <td id=\"T_95a4d_row6_col5\" class=\"data row6 col5\" >21.16%</td>\n",
       "      <td id=\"T_95a4d_row6_col6\" class=\"data row6 col6\" >1.01%</td>\n",
       "      <td id=\"T_95a4d_row6_col7\" class=\"data row6 col7\" >21.11%</td>\n",
       "    </tr>\n",
       "    <tr>\n",
       "      <th id=\"T_95a4d_level0_row7\" class=\"row_heading level0 row7\" >7</th>\n",
       "      <td id=\"T_95a4d_row7_col0\" class=\"data row7 col0\" >social.vivaldi.net</td>\n",
       "      <td id=\"T_95a4d_row7_col1\" class=\"data row7 col1\" >../data/favicons/favicon-social.vivaldi.net.png</td>\n",
       "      <td id=\"T_95a4d_row7_col2\" class=\"data row7 col2\" >7165129</td>\n",
       "      <td id=\"T_95a4d_row7_col3\" class=\"data row7 col3\" >7033279</td>\n",
       "      <td id=\"T_95a4d_row7_col4\" class=\"data row7 col4\" >133506</td>\n",
       "      <td id=\"T_95a4d_row7_col5\" class=\"data row7 col5\" >20.22%</td>\n",
       "      <td id=\"T_95a4d_row7_col6\" class=\"data row7 col6\" >1.36%</td>\n",
       "      <td id=\"T_95a4d_row7_col7\" class=\"data row7 col7\" >20.30%</td>\n",
       "    </tr>\n",
       "    <tr>\n",
       "      <th id=\"T_95a4d_level0_row8\" class=\"row_heading level0 row8\" >8</th>\n",
       "      <td id=\"T_95a4d_row8_col0\" class=\"data row8 col0\" >techhub.social</td>\n",
       "      <td id=\"T_95a4d_row8_col1\" class=\"data row8 col1\" >../data/favicons/favicon-techhub.social.png</td>\n",
       "      <td id=\"T_95a4d_row8_col2\" class=\"data row8 col2\" >7112351</td>\n",
       "      <td id=\"T_95a4d_row8_col3\" class=\"data row8 col3\" >7042597</td>\n",
       "      <td id=\"T_95a4d_row8_col4\" class=\"data row8 col4\" >71772</td>\n",
       "      <td id=\"T_95a4d_row8_col5\" class=\"data row8 col5\" >20.25%</td>\n",
       "      <td id=\"T_95a4d_row8_col6\" class=\"data row8 col6\" >0.73%</td>\n",
       "      <td id=\"T_95a4d_row8_col7\" class=\"data row8 col7\" >20.15%</td>\n",
       "    </tr>\n",
       "    <tr>\n",
       "      <th id=\"T_95a4d_level0_row9\" class=\"row_heading level0 row9\" >9</th>\n",
       "      <td id=\"T_95a4d_row9_col0\" class=\"data row9 col0\" >toot.community</td>\n",
       "      <td id=\"T_95a4d_row9_col1\" class=\"data row9 col1\" >../data/favicons/favicon-toot.community.png</td>\n",
       "      <td id=\"T_95a4d_row9_col2\" class=\"data row9 col2\" >6599259</td>\n",
       "      <td id=\"T_95a4d_row9_col3\" class=\"data row9 col3\" >6575255</td>\n",
       "      <td id=\"T_95a4d_row9_col4\" class=\"data row9 col4\" >29977</td>\n",
       "      <td id=\"T_95a4d_row9_col5\" class=\"data row9 col5\" >18.91%</td>\n",
       "      <td id=\"T_95a4d_row9_col6\" class=\"data row9 col6\" >0.31%</td>\n",
       "      <td id=\"T_95a4d_row9_col7\" class=\"data row9 col7\" >18.69%</td>\n",
       "    </tr>\n",
       "  </tbody>\n",
       "</table>\n"
      ],
      "text/plain": [
       "<pandas.io.formats.style.Styler at 0x7f27337edd90>"
      ]
     },
     "execution_count": 67,
     "metadata": {},
     "output_type": "execute_result"
    }
   ],
   "source": [
    "crawled_data = []\n",
    "for instance in crawled_counts.keys():\n",
    "    if instance in top_crawled_instances:\n",
    "        favicon_path = save_favicon(instance)\n",
    "    else:\n",
    "        favicon_path = None\n",
    "    crawled_data.append({\n",
    "        \"instance\": instance,\n",
    "        \"icon\": favicon_path if favicon_path is not None else None,\n",
    "        \"posts_crawled\": crawled_counts.get(instance, 0),\n",
    "        \"posts_crawled_federated\": crawled_federated_counts.get(instance, 0),\n",
    "        \"posts_crawled_local\": crawled_local_counts.get(instance, 0),\n",
    "    })\n",
    "\n",
    "df_crawled = DataFrame(crawled_data)\n",
    "df_crawled[\"percentage_crawled_federated_of_all_crawled_federated\"] = \\\n",
    "    df_crawled[\"posts_crawled_federated\"] / total_crawled_federated_count\n",
    "df_crawled[\"percentage_crawled_local_of_all_crawled_local\"] = \\\n",
    "    df_crawled[\"posts_crawled_local\"] / total_crawled_local_count\n",
    "df_crawled[\"percentage_crawled_of_all_crawled\"] = \\\n",
    "    df_crawled[\"posts_crawled\"] / total_crawled_count\n",
    "df_crawled.head(n=10).style\\\n",
    "    .format({\n",
    "        col: \"{:,.2%}\"\n",
    "        for col in df_crawled.columns\n",
    "        if col.startswith(\"percentage_\")\n",
    "    })"
   ]
  },
  {
   "cell_type": "code",
   "execution_count": 68,
   "id": "b256d90e",
   "metadata": {},
   "outputs": [
    {
     "name": "stdout",
     "output_type": "stream",
     "text": [
      "\\begin{tabular}{@{}cl@{\\hspace{2em}}rr@{\\hspace{1.5em}}rr@{\\hspace{1.5em}}rr@{}}\n",
      "  \\toprule\n",
      "  \\multicolumn{2}{@{}l}{\\textbf{Instance}} & \\multicolumn{6}{c}{\\textbf{\\iconCrawled~Crawled posts}} \\\\\n",
      "  \\cmidrule{3-8}\n",
      "   &  & \\multicolumn{1}{c}{\\iconFederated~Fed.} & \\multicolumn{1}{c@{\\hspace{1.5em}}}{{\\tiny\\faIcon{arrow-down}}\\iconFederated} & \\multicolumn{1}{c}{\\iconRemote~Remote} & \\multicolumn{1}{c}{{\\tiny\\faIcon{arrow-down}}\\iconRemote} & \\multicolumn{1}{c}{\\iconLocal~Local} & \\multicolumn{1}{c}{{\\tiny\\faIcon{arrow-down}}\\iconLocal} \\\\\n",
      "  \\midrule\n",
      "  \\favicon{mastodon.social} & \\instance{mastodon.social} & 15,339,031 & 43\\% & 12,419,766 & 36\\% & 3,213,603 & 33\\% \\\\\n",
      "  \\favicon{mastodon.online} & \\instance{mastodon.online} & 9,903,317 & 28\\% & 9,637,941 & 28\\% & 254,626 & 3\\% \\\\\n",
      "  \\favicon{mstdn.social} & \\instance{mstdn.social} & 9,544,636 & 27\\% & 9,161,146 & 26\\% & 361,335 & 4\\% \\\\\n",
      "  \\favicon{ohai.social} & \\instance{ohai.social} & 8,706,348 & 25\\% & 8,691,028 & 25\\% & 19,110 & 0\\% \\\\\n",
      "  \\favicon{mas.to} & \\instance{mas.to} & 8,200,339 & 23\\% & 8,022,495 & 23\\% & 182,123 & 2\\% \\\\\n",
      "  \\favicon{mastodon.world} & \\instance{mastodon.world} & 8,111,819 & 23\\% & 7,922,482 & 23\\% & 208,671 & 2\\% \\\\\n",
      "  \\favicon{universeodon.com} & \\instance{universeodon.com} & 7,453,409 & 21\\% & 7,358,211 & 21\\% & 98,605 & 1\\% \\\\\n",
      "  \\favicon{social.vivaldi.net} & \\instance{social.vivaldi.net} & 7,165,129 & 20\\% & 7,033,279 & 20\\% & 133,506 & 1\\% \\\\\n",
      "  \\favicon{techhub.social} & \\instance{techhub.social} & 7,112,351 & 20\\% & 7,042,597 & 20\\% & 71,772 & 1\\% \\\\\n",
      "  \\favicon{toot.community} & \\instance{toot.community} & 6,599,259 & 19\\% & 6,575,255 & 19\\% & 29,977 & 0\\% \\\\\n",
      "  \\midrule\n",
      "  \\iconCrawled & 1,015 crawled & 35,300,568 & 100\\% & 34,780,419 & 100\\% & 9,800,888 & 100\\% \\\\\n",
      "  \\bottomrule\n",
      "\\end{tabular}\n"
     ]
    }
   ],
   "source": [
    "print(r\"\\begin{tabular}{@{}cl@{\\hspace{2em}}rr@{\\hspace{1.5em}}rr@{\\hspace{1.5em}}rr@{}}\")\n",
    "print(r\"  \\toprule\")\n",
    "cols = [\n",
    "    r\"\\multicolumn{2}{@{}l}{\\textbf{Instance}}\",\n",
    "    r\"\\multicolumn{6}{c}{\\textbf{\\iconCrawled~Crawled posts}}\",\n",
    "]\n",
    "print(r\"  \" + \" & \".join(cols) + r\" \\\\\")\n",
    "print(r\"  \\cmidrule{3-8}\")\n",
    "cols = [\n",
    "    r\"\",\n",
    "    r\"\",\n",
    "    r\"\\multicolumn{1}{c}{\\iconFederated~Fed.}\",\n",
    "    r\"\\multicolumn{1}{c@{\\hspace{1.5em}}}{{\\tiny\\faIcon{arrow-down}}\\iconFederated}\",\n",
    "    r\"\\multicolumn{1}{c}{\\iconRemote~Remote}\",\n",
    "    r\"\\multicolumn{1}{c}{{\\tiny\\faIcon{arrow-down}}\\iconRemote}\",\n",
    "    r\"\\multicolumn{1}{c}{\\iconLocal~Local}\",\n",
    "    r\"\\multicolumn{1}{c}{{\\tiny\\faIcon{arrow-down}}\\iconLocal}\",\n",
    "]\n",
    "print(r\"  \" + \" & \".join(cols) + r\" \\\\\")\n",
    "print(r\"  \\midrule\")\n",
    "for _, row in df_crawled.iterrows():\n",
    "    favicon_path = save_favicon(row[\"instance\"], quiet=True)\n",
    "    cols = [\n",
    "        r\"\\favicon{\" + (row[\"instance\"] if favicon_path is not None else \"mastodon.social\") + r\"}\",\n",
    "        r\"\\instance{\" + row[\"instance\"] + r\"}\",\n",
    "        f\"{row['posts_crawled']:,d}\",\n",
    "        f\"{row['percentage_crawled_of_all_crawled']:,.0%}\".replace(\"%\", r\"\\%\"),\n",
    "        f\"{row['posts_crawled_federated']:,d}\",\n",
    "        f\"{row['percentage_crawled_federated_of_all_crawled_federated']:,.0%}\".replace(\"%\", r\"\\%\"),\n",
    "        f\"{row['posts_crawled_local']:,d}\",\n",
    "        f\"{row['percentage_crawled_local_of_all_crawled_local']:,.0%}\".replace(\"%\", r\"\\%\"),\n",
    "    ]\n",
    "    print(r\"  \" + \" & \".join(cols) + r\" \\\\\")\n",
    "print(r\"  \\midrule\")\n",
    "cols = [\n",
    "    r\"\\iconCrawled\",\n",
    "    f\"{crawled_instances_count:,d}\" + r\" crawled\",\n",
    "    f\"{total_crawled_count:,d}\",\n",
    "    f\"{1:,.0%}\".replace(\"%\", r\"\\%\"),\n",
    "    f\"{total_crawled_federated_count:,d}\",\n",
    "    f\"{1:,.0%}\".replace(\"%\", r\"\\%\"),\n",
    "    f\"{total_crawled_local_count:,d}\",\n",
    "    f\"{1:,.0%}\".replace(\"%\", r\"\\%\"),\n",
    "]\n",
    "print(r\"  \" + \" & \".join(cols) + r\" \\\\\")\n",
    "print(r\"  \\bottomrule\")\n",
    "print(r\"\\end{tabular}\")"
   ]
  },
  {
   "cell_type": "code",
   "execution_count": null,
   "id": "83d6a647",
   "metadata": {},
   "outputs": [],
   "source": []
  }
 ],
 "metadata": {
  "kernelspec": {
   "display_name": "Python 3 (ipykernel)",
   "language": "python",
   "name": "python3"
  },
  "language_info": {
   "codemirror_mode": {
    "name": "ipython",
    "version": 3
   },
   "file_extension": ".py",
   "mimetype": "text/x-python",
   "name": "python",
   "nbconvert_exporter": "python",
   "pygments_lexer": "ipython3",
   "version": "3.11.0rc1"
  }
 },
 "nbformat": 4,
 "nbformat_minor": 5
}
