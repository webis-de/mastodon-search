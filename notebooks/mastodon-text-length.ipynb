{
 "cells": [
  {
   "cell_type": "code",
   "execution_count": 71,
   "id": "6c6227ba-abd6-4bdf-8baa-94fb351efe52",
   "metadata": {},
   "outputs": [],
   "source": [
    "from elasticsearch_dsl import connections, Index, Search\n",
    "from elasticsearch_dsl.query import Range, Terms, Term\n",
    "from elasticsearch_dsl.aggs import Terms as PerTerms, Cardinality, Histogram, Min, Max\n",
    "from pandas import DataFrame, NA, concat\n",
    "from pathlib import Path\n",
    "from seaborn import FacetGrid, histplot, set_theme"
   ]
  },
  {
   "cell_type": "code",
   "execution_count": 80,
   "id": "b6ec008d-d445-4bfa-9e23-d13f8c78fe94",
   "metadata": {},
   "outputs": [],
   "source": [
    "ELASTIC_HOST = \"https://elasticsearch.srv.webis.de\"\n",
    "ELASTIC_PORT = 9200\n",
    "ELASTIC_USER = \"ajjxp\"\n",
    "# As a way to hide the password at least from the notebook, enter a path to a file here, which only contains the password for Elastic.\n",
    "ELASTIC_PASSWORD_FILE = Path(\"~/.local/share/passwords/webis-elasticsearch.txt\").expanduser()\n",
    "INDEX = \"corpus_mastodon_statuses*\"\n",
    "\n",
    "OUTPUT_PATH = Path(\"../data\")\n",
    "\n",
    "NUM_EXPLICIT_INSTANCES = 10\n",
    "NUM_TOP_VALUES_BUCKETS = 50\n",
    "NUM_TOP_VALUES = 10\n",
    "\n",
    "# Limit the Elastic searches to a specific date range. Crawling started on 2023-12-21.\n",
    "DATE_AFTER = \"2023-12-01T00:00:00\"\n",
    "## Ca. \"2024-01-30T12:00:00\" is the time when a new version of the fediverse data was gahtered.\n",
    "DATE_BEFORE = \"2024-02-22T00:00:00\""
   ]
  },
  {
   "cell_type": "code",
   "execution_count": 81,
   "id": "cda8bfe2-cdf8-4f06-9610-7d6cc36022a6",
   "metadata": {},
   "outputs": [],
   "source": [
    "# Connect to Elastic.\n",
    "with ELASTIC_PASSWORD_FILE.open(\"r\") as f:\n",
    "    password = f.readline().strip(\"\\n\")\n",
    "elastic = connections.create_connection(\n",
    "    hosts=ELASTIC_HOST + \":\" + str(ELASTIC_PORT),\n",
    "    basic_auth=(ELASTIC_USER, password),\n",
    "    timeout=300\n",
    ")"
   ]
  },
  {
   "cell_type": "code",
   "execution_count": 82,
   "id": "b28bcd06",
   "metadata": {},
   "outputs": [
    {
     "data": {
      "text/plain": [
       "{'range': {'crawled_at': {'gte': '2023-12-01T00:00:00',\n",
       "   'lte': '2024-02-22T00:00:00',\n",
       "   'format': 'date_hour_minute_second'}}}"
      ]
     },
     "execution_count": 82,
     "metadata": {},
     "output_type": "execute_result"
    }
   ],
   "source": [
    "# Prepare the date query\n",
    "date_query = Range(crawled_at={\"gte\": DATE_AFTER, \"lte\": DATE_BEFORE, \"format\" : \"date_hour_minute_second\"})\n",
    "date_query.to_dict()"
   ]
  },
  {
   "cell_type": "code",
   "execution_count": 83,
   "id": "1ee3037a",
   "metadata": {},
   "outputs": [
    {
     "data": {
      "text/plain": [
       "733422366"
      ]
     },
     "execution_count": 83,
     "metadata": {},
     "output_type": "execute_result"
    }
   ],
   "source": [
    "base_search: Search = Index(INDEX)\\\n",
    "    .search()\\\n",
    "    .filter(date_query)\n",
    "base_search.count()"
   ]
  },
  {
   "cell_type": "code",
   "execution_count": 85,
   "id": "1caae2f6",
   "metadata": {},
   "outputs": [
    {
     "data": {
      "text/plain": [
       "{'tags_name_length': {'buckets': [{'key': 1.0, 'doc_count': ...}"
      ]
     },
     "execution_count": 85,
     "metadata": {},
     "output_type": "execute_result"
    }
   ],
   "source": [
    "length_hist_search: Search = base_search.params(size=0)\n",
    "length_hist_search.aggs\\\n",
    "    .bucket(\n",
    "        \"content_length\",\n",
    "        Histogram(field=\"content.length\", interval=10)\n",
    "    )\n",
    "length_hist_search.aggs\\\n",
    "    .bucket(\n",
    "        \"account_display_name_length\",\n",
    "        Histogram(field=\"account.display_name.length\", interval=1)\n",
    "    )\n",
    "length_hist_search.aggs\\\n",
    "    .bucket(\n",
    "        \"account_note_length\",\n",
    "        Histogram(field=\"account.note.length\", interval=1)\n",
    "    )\n",
    "length_hist_search.aggs\\\n",
    "    .bucket(\n",
    "        \"card_description_length\",\n",
    "        Histogram(field=\"card.description.length\", interval=1)\n",
    "    )\n",
    "length_hist_search.aggs\\\n",
    "    .bucket(\n",
    "        \"card_title_length\",\n",
    "        Histogram(field=\"card.title.length\", interval=1)\n",
    "    )\n",
    "length_hist_search.aggs\\\n",
    "    .bucket(\n",
    "        \"media_attachments_description_length\",\n",
    "        Histogram(field=\"media_attachments.description.length\", interval=1)\n",
    "    )\n",
    "length_hist_search.aggs\\\n",
    "    .bucket(\n",
    "        \"spoiler_text_length\",\n",
    "        Histogram(field=\"spoiler_text.length\", interval=1)\n",
    "    )\n",
    "length_hist_search.aggs\\\n",
    "    .bucket(\n",
    "        \"tags_name_length\",\n",
    "        Histogram(field=\"tags.name.length\", interval=1)\n",
    "    )\n",
    "length_hist_aggs = length_hist_search.execute().aggs\n",
    "length_hist_aggs"
   ]
  },
  {
   "cell_type": "code",
   "execution_count": 87,
   "id": "dd0f8a94",
   "metadata": {},
   "outputs": [
    {
     "data": {
      "text/html": [
       "<div>\n",
       "<style scoped>\n",
       "    .dataframe tbody tr th:only-of-type {\n",
       "        vertical-align: middle;\n",
       "    }\n",
       "\n",
       "    .dataframe tbody tr th {\n",
       "        vertical-align: top;\n",
       "    }\n",
       "\n",
       "    .dataframe thead th {\n",
       "        text-align: right;\n",
       "    }\n",
       "</style>\n",
       "<table border=\"1\" class=\"dataframe\">\n",
       "  <thead>\n",
       "    <tr style=\"text-align: right;\">\n",
       "      <th></th>\n",
       "      <th>length</th>\n",
       "      <th>count</th>\n",
       "      <th>field</th>\n",
       "    </tr>\n",
       "  </thead>\n",
       "  <tbody>\n",
       "    <tr>\n",
       "      <th>0</th>\n",
       "      <td>0.0</td>\n",
       "      <td>3354874</td>\n",
       "      <td>Content</td>\n",
       "    </tr>\n",
       "    <tr>\n",
       "      <th>1</th>\n",
       "      <td>10.0</td>\n",
       "      <td>3360223</td>\n",
       "      <td>Content</td>\n",
       "    </tr>\n",
       "    <tr>\n",
       "      <th>2</th>\n",
       "      <td>20.0</td>\n",
       "      <td>2624829</td>\n",
       "      <td>Content</td>\n",
       "    </tr>\n",
       "    <tr>\n",
       "      <th>3</th>\n",
       "      <td>30.0</td>\n",
       "      <td>2225158</td>\n",
       "      <td>Content</td>\n",
       "    </tr>\n",
       "    <tr>\n",
       "      <th>4</th>\n",
       "      <td>40.0</td>\n",
       "      <td>2289716</td>\n",
       "      <td>Content</td>\n",
       "    </tr>\n",
       "    <tr>\n",
       "      <th>...</th>\n",
       "      <td>...</td>\n",
       "      <td>...</td>\n",
       "      <td>...</td>\n",
       "    </tr>\n",
       "    <tr>\n",
       "      <th>26246</th>\n",
       "      <td>26246.0</td>\n",
       "      <td>0</td>\n",
       "      <td>Card description</td>\n",
       "    </tr>\n",
       "    <tr>\n",
       "      <th>26247</th>\n",
       "      <td>26247.0</td>\n",
       "      <td>0</td>\n",
       "      <td>Card description</td>\n",
       "    </tr>\n",
       "    <tr>\n",
       "      <th>26248</th>\n",
       "      <td>26248.0</td>\n",
       "      <td>0</td>\n",
       "      <td>Card description</td>\n",
       "    </tr>\n",
       "    <tr>\n",
       "      <th>26249</th>\n",
       "      <td>26249.0</td>\n",
       "      <td>0</td>\n",
       "      <td>Card description</td>\n",
       "    </tr>\n",
       "    <tr>\n",
       "      <th>26250</th>\n",
       "      <td>26250.0</td>\n",
       "      <td>2</td>\n",
       "      <td>Card description</td>\n",
       "    </tr>\n",
       "  </tbody>\n",
       "</table>\n",
       "<p>37225 rows × 3 columns</p>\n",
       "</div>"
      ],
      "text/plain": [
       "        length    count             field\n",
       "0          0.0  3354874           Content\n",
       "1         10.0  3360223           Content\n",
       "2         20.0  2624829           Content\n",
       "3         30.0  2225158           Content\n",
       "4         40.0  2289716           Content\n",
       "...        ...      ...               ...\n",
       "26246  26246.0        0  Card description\n",
       "26247  26247.0        0  Card description\n",
       "26248  26248.0        0  Card description\n",
       "26249  26249.0        0  Card description\n",
       "26250  26250.0        2  Card description\n",
       "\n",
       "[37225 rows x 3 columns]"
      ]
     },
     "execution_count": 87,
     "metadata": {},
     "output_type": "execute_result"
    }
   ],
   "source": [
    "fields = {\n",
    "    \"content_length\": \"Content\",\n",
    "    \"media_attachments_description_length\": \"Media alt text\",\n",
    "    \"spoiler_text_length\": \"Spoiler\",\n",
    "    \"tags_name_length\": \"Hashtag\",\n",
    "    \"account_display_name_length\": \"Account name\",\n",
    "    \"account_note_length\": \"Account note\",\n",
    "    \"card_title_length\": \"Card title\",\n",
    "    \"card_description_length\": \"Card description\",\n",
    "}\n",
    "df = concat([\n",
    "    DataFrame([\n",
    "        bucket.to_dict()\n",
    "        for bucket in length_hist_aggs[agg].buckets\n",
    "    ]).rename(columns={\n",
    "        \"key\": \"length\",\n",
    "        \"doc_count\": \"count\",\n",
    "    }).assign(field=field)\n",
    "    if agg in length_hist_aggs else DataFrame()\n",
    "    for agg, field in fields.items()\n",
    "])\n",
    "df"
   ]
  },
  {
   "cell_type": "code",
   "execution_count": 88,
   "id": "7d6ff2e8",
   "metadata": {},
   "outputs": [
    {
     "data": {
      "text/plain": [
       "<seaborn.axisgrid.FacetGrid at 0x7fa633921550>"
      ]
     },
     "execution_count": 88,
     "metadata": {},
     "output_type": "execute_result"
    },
    {
     "data": {
      "image/png": "[encoded data removed]",
      "text/plain": [
       "<Figure size 1200x400 with 8 Axes>"
      ]
     },
     "metadata": {},
     "output_type": "display_data"
    }
   ],
   "source": [
    "set_theme(style=\"white\", context=\"paper\", palette=\"colorblind\")\n",
    "g = FacetGrid(\n",
    "    data=df,\n",
    "    col=\"field\", \n",
    "    col_wrap=4,\n",
    "    # sharex=\"col\",\n",
    "    # sharey=\"row\",\n",
    "    sharex=False,\n",
    "    sharey=True,\n",
    "    height=2,\n",
    "    aspect=1.5,\n",
    ")\n",
    "g.map_dataframe(\n",
    "    histplot,\n",
    "    x=\"length\",\n",
    "    weights=\"count\",\n",
    "    bins=10,\n",
    "    log_scale=(True, True),\n",
    "    fill=True,\n",
    ")\n",
    "g.set_titles(template=\"\")\n",
    "for name, ax in g.axes_dict.items():\n",
    "    name: str\n",
    "    ax.set_yscale(\"log\")\n",
    "    ax.set_xlabel(name[:1].capitalize() + name[1:] + \" length\")\n",
    "g.savefig(\"../data/histograms-text-lengths.pdf\")\n",
    "# g.figure.tight_layout()\n",
    "g"
   ]
  },
  {
   "cell_type": "code",
   "execution_count": null,
   "id": "009e6d50",
   "metadata": {},
   "outputs": [],
   "source": []
  }
 ],
 "metadata": {
  "kernelspec": {
   "display_name": "Python 3 (ipykernel)",
   "language": "python",
   "name": "python3"
  },
  "language_info": {
   "codemirror_mode": {
    "name": "ipython",
    "version": 3
   },
   "file_extension": ".py",
   "mimetype": "text/x-python",
   "name": "python",
   "nbconvert_exporter": "python",
   "pygments_lexer": "ipython3",
   "version": "3.11.0rc1"
  }
 },
 "nbformat": 4,
 "nbformat_minor": 5
}
