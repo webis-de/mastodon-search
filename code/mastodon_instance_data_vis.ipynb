{
 "cells": [
  {
   "cell_type": "markdown",
   "id": "1dfa6eb6-c350-406b-94db-38fbb0c7ceb6",
   "metadata": {},
   "source": [
    "This Notebook will plot some histograms for data gathered from Mastodon instances.\n",
    "\n",
    "Firstly, we load all the data that was previously gathered from all Mastodon instances. If your file path differs, you need to change it down below."
   ]
  },
  {
   "cell_type": "code",
   "execution_count": null,
   "id": "96473e33-c02c-404f-acb9-c4c730725a4f",
   "metadata": {},
   "outputs": [],
   "source": [
    "filepath='/mnt/ceph/storage/data-in-progress/data-teaching/theses/wstud-thesis-ernst/instance-data/mastodon'"
   ]
  },
  {
   "cell_type": "code",
   "execution_count": null,
   "id": "cacdde86-6a58-40bf-b3e9-a2a6f6f5eb1e",
   "metadata": {},
   "outputs": [],
   "source": [
    "from fediverse_analysis.instance_data import analyze\n",
    "\n",
    "try:\n",
    "    with open(filepath, 'r') as file:\n",
    "        an = analyze.Analyzer(file)\n",
    "except Exception as e:\n",
    "    print(e)\n",
    "    exit(1)\n",
    "data = an.df"
   ]
  },
  {
   "cell_type": "markdown",
   "id": "ccef6b97-faf0-4be0-afb5-870d5230ef49",
   "metadata": {},
   "source": [
    "Now every statistic is plotted as a histogram."
   ]
  },
  {
   "cell_type": "code",
   "execution_count": null,
   "id": "2da88104-4884-443a-aab9-8ed1cbb16dfb",
   "metadata": {
    "scrolled": true
   },
   "outputs": [],
   "source": [
    "import matplotlib.pyplot as plt\n",
    "import seaborn as sns\n",
    "\n",
    "# PU stands for per user\n",
    "available_stats = [an.TOTAL_USERS, an.MONTHLY_USERS, an.TOTAL_STATUSES,\n",
    "                   an.WEEKLY_STATUSES, an.WEEKLY_LOGINS, an.WEEKLY_REGS]\n",
    "\n",
    "for i in range(len(available_stats)):\n",
    "    plt.figure(i)\n",
    "    plot = sns.histplot(data=data[available_stats[i]], log_scale=True)\n",
    "    plot.set(xlabel=available_stats[i])\n",
    "    plot.set(ylabel='no. of instances')"
   ]
  },
  {
   "cell_type": "code",
   "execution_count": null,
   "id": "31a0fead-f0ec-456b-91ef-e9bcead92b75",
   "metadata": {},
   "outputs": [],
   "source": [
    "plot = sns.scatterplot(data=data, x=an.TOTAL_USERS, y=an.WEEKLY_STATUSES)\n",
    "plt.xscale('log')\n",
    "plt.yscale('log')"
   ]
  }
 ],
 "metadata": {
  "kernelspec": {
   "display_name": "Python 3 (ipykernel)",
   "language": "python",
   "name": "python3"
  },
  "language_info": {
   "codemirror_mode": {
    "name": "ipython",
    "version": 3
   },
   "file_extension": ".py",
   "mimetype": "text/x-python",
   "name": "python",
   "nbconvert_exporter": "python",
   "pygments_lexer": "ipython3",
   "version": "3.11.6"
  }
 },
 "nbformat": 4,
 "nbformat_minor": 5
}
