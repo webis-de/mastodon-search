{
 "cells": [
  {
   "cell_type": "markdown",
   "id": "1dfa6eb6-c350-406b-94db-38fbb0c7ceb6",
   "metadata": {},
   "source": [
    "This Notebook will plot some histograms for data gathered from Mastodon instances.\n",
    "\n",
    "Firstly, we load all the data that was previously gathered from all Mastodon instances. If your file path differs, you need to change it down below."
   ]
  },
  {
   "cell_type": "code",
   "execution_count": null,
   "id": "96473e33-c02c-404f-acb9-c4c730725a4f",
   "metadata": {},
   "outputs": [],
   "source": [
    "filepath='../data/nodes_data_mastodon_py'"
   ]
  },
  {
   "cell_type": "code",
   "execution_count": null,
   "id": "cacdde86-6a58-40bf-b3e9-a2a6f6f5eb1e",
   "metadata": {},
   "outputs": [],
   "source": [
    "from fediverse_analysis.instance_data import analyze\n",
    "\n",
    "try:\n",
    "    with open(filepath, 'r') as file:\n",
    "        an = analyze.Analyzer(file)\n",
    "except Exception as e:\n",
    "    print(e)\n",
    "    exit(1)\n",
    "data = an.data"
   ]
  },
  {
   "cell_type": "markdown",
   "id": "0d16867f-6c3d-4002-acb8-d0c0a901361e",
   "metadata": {},
   "source": [
    "Now you may choose a statistic and print it."
   ]
  },
  {
   "cell_type": "code",
   "execution_count": null,
   "id": "2da88104-4884-443a-aab9-8ed1cbb16dfb",
   "metadata": {},
   "outputs": [],
   "source": [
    "import matplotlib.pyplot as plt\n",
    "import seaborn as sns\n",
    "\n",
    "# PU stands for per user\n",
    "available_stats = [an.TOTAL_USERS, an.MONTHLY_USERS, an.TOTAL_STATUSES, an.WEEKLY_STATUSES, an.WEEKLY_LOGINS,\n",
    "                   an.WEEKLY_REGS, an.WEEKLY_STATUSES_PU, an.WEEKLY_LOGINS_PU, an.WEEKLY_REGS_PU]\n",
    "\n",
    "for i in range(len(available_stats)):\n",
    "    plt.figure(i)\n",
    "    plot = sns.histplot(data=data[available_stats[i]], log_scale=True)\n",
    "    plot.set(xlabel=available_stats[i])"
   ]
  }
 ],
 "metadata": {
  "kernelspec": {
   "display_name": "Python 3 (ipykernel)",
   "language": "python",
   "name": "python3"
  },
  "language_info": {
   "codemirror_mode": {
    "name": "ipython",
    "version": 3
   },
   "file_extension": ".py",
   "mimetype": "text/x-python",
   "name": "python",
   "nbconvert_exporter": "python",
   "pygments_lexer": "ipython3",
   "version": "3.11.6"
  }
 },
 "nbformat": 4,
 "nbformat_minor": 5
}
